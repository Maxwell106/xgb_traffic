{
 "cells": [
  {
   "cell_type": "markdown",
   "metadata": {},
   "source": [
    "First, read all the lines in train.csv"
   ]
  },
  {
   "cell_type": "code",
   "execution_count": 1,
   "metadata": {},
   "outputs": [],
   "source": [
    "import csv\n",
    "raw_input_file = open('train.csv')\n",
    "raw_input = csv.reader(raw_input_file)\n",
    "lines = []\n",
    "for row in raw_input:\n",
    "    lines += [row]\n",
    "raw_input_file.close()"
   ]
  },
  {
   "cell_type": "markdown",
   "metadata": {},
   "source": [
    "Transform csv into proper format for xgboost, and divide labeled data into training and validation set.\n",
    "\n",
    "use datetime, chinese_holiday and workalendar to deal with the datetime field.\n",
    "\n",
    "The features I use:\n",
    "    Year, month, day, hour\n",
    "    Day of week(Monday - Sunday)\n",
    "    Is the day a holiday of Hong Kong or Mainland China or not\n",
    "\n",
    "One-hot everything!\n",
    "\n",
    "Use random shuffle to divide the initial dataset into training and validation."
   ]
  },
  {
   "cell_type": "code",
   "execution_count": 2,
   "metadata": {},
   "outputs": [],
   "source": [
    "import datetime\n",
    "import chinese_holiday\n",
    "from workalendar.asia import HongKong\n",
    "calendar = HongKong()\n",
    "input_for_xgb = []\n",
    "for line in lines[1:]:\n",
    "    temp = [float(line[2])]\n",
    "    date_time_obj = datetime.datetime.strptime(line[1], '%d/%m/%Y %H:%M')\n",
    "    temp_year = date_time_obj.year\n",
    "    temp_month = date_time_obj.month\n",
    "    temp_day = date_time_obj.day\n",
    "    temp_hour = date_time_obj.hour\n",
    "    temp_weekday = date_time_obj.weekday()\n",
    "    temp += [int(calendar.is_holiday(date_time_obj))]\n",
    "    temp += [int(chinese_holiday.is_holiday(date_time_obj))]\n",
    "    temp += [0 if temp_year == 2017 else 1]\n",
    "    temp += [1 if i == temp_month else 0 for i in range(1,13)]\n",
    "    temp += [1 if i == temp_day else 0 for i in range(1,32)]\n",
    "    temp += [1 if i == temp_hour else 0 for i in range(24)]\n",
    "    temp += [1 if i == temp_weekday else 0 for i in range(7)]\n",
    "    input_for_xgb += [temp]\n",
    "import random\n",
    "random.shuffle(input_for_xgb)\n",
    "xgb_input_file = open('xgb_train.txt','w')\n",
    "for line in input_for_xgb[:10000]:\n",
    "    xgb_input_file.write(str(line[0]))\n",
    "    xgb_input_file.write(' ')\n",
    "    for i in range(1,len(input_for_xgb[0])):\n",
    "        xgb_input_file.write(str(i))\n",
    "        xgb_input_file.write(':')\n",
    "        xgb_input_file.write(str(line[i]))\n",
    "        xgb_input_file.write(' ')\n",
    "    xgb_input_file.write('\\n')\n",
    "xgb_input_file.close()\n",
    "xgb_input_file = open('xgb_val.txt','w')\n",
    "for line in input_for_xgb[10000:]:\n",
    "    xgb_input_file.write(str(line[0]))\n",
    "    xgb_input_file.write(' ')\n",
    "    for i in range(1,len(input_for_xgb[0])):\n",
    "        xgb_input_file.write(str(i))\n",
    "        xgb_input_file.write(':')\n",
    "        xgb_input_file.write(str(line[i]))\n",
    "        xgb_input_file.write(' ')\n",
    "    xgb_input_file.write('\\n')\n",
    "xgb_input_file.close()"
   ]
  },
  {
   "cell_type": "markdown",
   "metadata": {},
   "source": [
    "Read input files into xgboost and train a random forest model.\n",
    "Although the official guide says that learning_rate and num_boost_round must be 1, I found that tuning them will yield better results."
   ]
  },
  {
   "cell_type": "code",
   "execution_count": 4,
   "metadata": {},
   "outputs": [],
   "source": [
    "import xgboost as xgb\n",
    "dtrain = xgb.DMatrix('xgb_train.txt')\n",
    "dval = xgb.DMatrix('xgb_val.txt')\n",
    "params = {\n",
    "  'colsample_bynode': 0.4,\n",
    "  'learning_rate': 0.8,\n",
    "  'max_depth': 6,\n",
    "  'num_parallel_tree': 80,\n",
    "  'objective': 'reg:squarederror',\n",
    "  'subsample': 0.6,\n",
    "  'tree_method': 'gpu_hist',\n",
    "}\n",
    "bst = xgb.train(params, dtrain, num_boost_round=400)\n",
    "preds = bst.predict(dtrain)\n",
    "val_preds = bst.predict(dval)"
   ]
  },
  {
   "cell_type": "markdown",
   "metadata": {},
   "source": [
    "Xgboost does not have output while training, so I have to manually output the mean squared error of training and validation set."
   ]
  },
  {
   "cell_type": "code",
   "execution_count": 5,
   "metadata": {},
   "outputs": [
    {
     "name": "stdout",
     "output_type": "stream",
     "text": [
      "train: 9.663658442125065\n",
      "val: 14.57769868472649\n"
     ]
    }
   ],
   "source": [
    "real = [line[0] for line in input_for_xgb]\n",
    "real_train = real[:10000]\n",
    "real_val = real[10000:]\n",
    "total_se = 0\n",
    "for i in range(len(real_train)):\n",
    "    total_se += (real_train[i]-preds[i])**2\n",
    "mse = total_se/len(real_train)\n",
    "print('train:',mse)\n",
    "total_se = 0\n",
    "for i in range(len(real_val)):\n",
    "    total_se += (real_val[i]-val_preds[i])**2\n",
    "mse = total_se/len(real_val)\n",
    "print('val:',mse)"
   ]
  },
  {
   "cell_type": "markdown",
   "metadata": {},
   "source": [
    "All the cells below just use the model I trained above to produce the submission file."
   ]
  },
  {
   "cell_type": "code",
   "execution_count": 6,
   "metadata": {},
   "outputs": [],
   "source": [
    "raw_output_file = open('test.csv')\n",
    "raw_output = csv.reader(raw_output_file)\n",
    "lines = []\n",
    "for row in raw_output:\n",
    "    lines += [row]\n",
    "raw_output_file.close()"
   ]
  },
  {
   "cell_type": "code",
   "execution_count": 7,
   "metadata": {},
   "outputs": [],
   "source": [
    "input_for_xgb = []\n",
    "for line in lines[1:]:\n",
    "    temp = [0]\n",
    "    date_time_obj = datetime.datetime.strptime(line[1], '%d/%m/%Y %H:%M')\n",
    "    temp_year = date_time_obj.year\n",
    "    temp_month = date_time_obj.month\n",
    "    temp_day = date_time_obj.day\n",
    "    temp_hour = date_time_obj.hour\n",
    "    temp_weekday = date_time_obj.weekday()\n",
    "    temp += [int(calendar.is_holiday(date_time_obj))]\n",
    "    temp += [int(chinese_holiday.is_holiday(date_time_obj))]\n",
    "    temp += [0 if temp_year == 2017 else 1]\n",
    "    temp += [1 if i == temp_month else 0 for i in range(1,13)]\n",
    "    temp += [1 if i == temp_day else 0 for i in range(1,32)]\n",
    "    temp += [1 if i == temp_hour else 0 for i in range(24)]\n",
    "    temp += [1 if i == temp_weekday else 0 for i in range(7)]\n",
    "    input_for_xgb += [temp]\n",
    "xgb_input_file = open('xgb_test.txt','w')\n",
    "for line in input_for_xgb:\n",
    "    xgb_input_file.write(str(line[0]))\n",
    "    xgb_input_file.write(' ')\n",
    "    for i in range(1,len(input_for_xgb[0])):\n",
    "        xgb_input_file.write(str(i))\n",
    "        xgb_input_file.write(':')\n",
    "        xgb_input_file.write(str(line[i]))\n",
    "        xgb_input_file.write(' ')\n",
    "    xgb_input_file.write('\\n')\n",
    "xgb_input_file.close()"
   ]
  },
  {
   "cell_type": "code",
   "execution_count": 8,
   "metadata": {},
   "outputs": [
    {
     "data": {
      "text/plain": [
       "array([50.098682, 48.728905, 35.66695 , ..., 44.882774, 39.332832,\n",
       "       42.395332], dtype=float32)"
      ]
     },
     "execution_count": 8,
     "metadata": {},
     "output_type": "execute_result"
    }
   ],
   "source": [
    "dtest = xgb.DMatrix('xgb_test.txt')\n",
    "test_preds = bst.predict(dtest)\n",
    "test_preds"
   ]
  },
  {
   "cell_type": "code",
   "execution_count": 9,
   "metadata": {},
   "outputs": [],
   "source": [
    "submit = open('submit.csv','w')\n",
    "submit.write('id,speed\\n')\n",
    "for i in range(len(test_preds)):\n",
    "    submit.write(str(i))\n",
    "    submit.write(',')\n",
    "    submit.write(str(test_preds[i]))\n",
    "    if(i!=len(test_preds)-1):\n",
    "        submit.write('\\n')\n",
    "submit.close()"
   ]
  },
  {
   "cell_type": "code",
   "execution_count": null,
   "metadata": {},
   "outputs": [],
   "source": []
  }
 ],
 "metadata": {
  "kernelspec": {
   "display_name": "Python 3",
   "language": "python",
   "name": "python3"
  },
  "language_info": {
   "codemirror_mode": {
    "name": "ipython",
    "version": 3
   },
   "file_extension": ".py",
   "mimetype": "text/x-python",
   "name": "python",
   "nbconvert_exporter": "python",
   "pygments_lexer": "ipython3",
   "version": "3.8.3"
  }
 },
 "nbformat": 4,
 "nbformat_minor": 4
}
